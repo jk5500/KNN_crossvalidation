{
 "cells": [
  {
   "cell_type": "code",
   "execution_count": 1,
   "metadata": {
    "collapsed": false
   },
   "outputs": [],
   "source": [
    "# Homework-1, Question 10, K nearest Nighbour: written by Kamal jnawali\n",
    "import numpy as np\n",
    "import matplotlib.pyplot as plt\n",
    "import statistics\n",
    "%matplotlib inline"
   ]
  },
  {
   "cell_type": "code",
   "execution_count": 2,
   "metadata": {
    "collapsed": false
   },
   "outputs": [
    {
     "data": {
      "image/png": "[encoded data removed]",
      "text/plain": [
       "<matplotlib.figure.Figure at 0x6d0f5c0>"
      ]
     },
     "metadata": {},
     "output_type": "display_data"
    }
   ],
   "source": [
    "\n",
    "N1=50\n",
    "N2=50\n",
    "np.random.seed(2)\n",
    "x1=np.random.randn(N1,2)\n",
    "x2=np.random.randn(N2,2)+1\n",
    "X=np.r_[x1,x2]\n",
    "t=np.r_[np.zeros(N1), np.ones(N2)]\n",
    "color=['ro','ko']\n",
    "uniq=np.unique(t)\n",
    "for i in range(2):\n",
    "    index=t==uniq[i]\n",
    "    plt.plot(X[index,0],X[index,1],color[i])\n",
    "    plt.xlabel('x1 feature')\n",
    "    plt.ylabel('x2 feature')\n",
    "    plt.title('x1 feature vs x2 feature')\n",
    "\n",
    "\n",
    "\n",
    "\n",
    "            \n",
    "\n",
    "        \n",
    "        \n",
    "    "
   ]
  },
  {
   "cell_type": "code",
   "execution_count": 3,
   "metadata": {
    "collapsed": false
   },
   "outputs": [
    {
     "name": "stderr",
     "output_type": "stream",
     "text": [
      "C:\\Users\\kamal\\Anaconda2\\lib\\site-packages\\ipykernel\\__main__.py:12: DeprecationWarning: using a non-integer number instead of an integer will result in an error in the future\n"
     ]
    }
   ],
   "source": [
    "Nfold=10\n",
    "size=(N1+N2)/Nfold\n",
    "size1=np.ones(size)*size\n",
    "start=np.r_[0 , np.cumsum(size1)]\n",
    "order=np.random.permutation(N1+N2)\n",
    "Knnerror=[]\n",
    "K=np.arange(1,20,2)\n",
    "for f in range(len(K)):\n",
    "    kvalue=K[f]\n",
    "    Error1=[]\n",
    "    for g in range(Nfold):\n",
    "        onlyvalue=order[start[g]:start[g+1]]\n",
    "        trainx=X\n",
    "        traint=t\n",
    "        testx=X[onlyvalue]\n",
    "        testt=t[onlyvalue]\n",
    "        trainx1=np.delete(trainx[:,0],onlyvalue)\n",
    "        trainx2=np.delete(trainx[:,1],onlyvalue)\n",
    "        trainx=zip(trainx1,trainx2)\n",
    "        traint=np.delete(t,onlyvalue)\n",
    "        countclass=[]\n",
    "        for i in range(testt.shape[0]):\n",
    "            dist=trainx-testx[i]\n",
    "            squaredist=dist**2\n",
    "            sumdist=squaredist.sum(axis=1)\n",
    "            sortdist=sumdist.argsort()\n",
    "            index=sortdist[0:kvalue]\n",
    "            labels=traint[index]\n",
    "            classlabel=statistics.mode(labels)\n",
    "            countclass.append(classlabel)\n",
    "        Error=sum(countclass != testt)\n",
    "        Error1.append(Error)\n",
    "        #print len(labels)\n",
    "    totalerror=1.*sum(Error1)\n",
    "    Knnerror.append(totalerror)\n",
    "          "
   ]
  },
  {
   "cell_type": "code",
   "execution_count": 4,
   "metadata": {
    "collapsed": false
   },
   "outputs": [
    {
     "data": {
      "image/png": "[encoded data removed]",
      "text/plain": [
       "<matplotlib.figure.Figure at 0x77982b0>"
      ]
     },
     "metadata": {},
     "output_type": "display_data"
    }
   ],
   "source": [
    "\n",
    "plt.plot(K,np.array(Knnerror)/(N1+N2),'r')\n",
    "plt.xlabel('K nearest neighbour values')\n",
    "plt.ylabel('misclassification error')\n",
    "plt.title('missclassification error vs nearest neighbours number ')\n",
    "plt.show() "
   ]
  },
  {
   "cell_type": "code",
   "execution_count": 5,
   "metadata": {
    "collapsed": false
   },
   "outputs": [
    {
     "name": "stdout",
     "output_type": "stream",
     "text": [
      "[ 0.31  0.27  0.25  0.2   0.19  0.22  0.2   0.22  0.22  0.24]\n"
     ]
    }
   ],
   "source": [
    "Miscllassification_Error=np.array(Knnerror)/(N1+N2)\n",
    "print Miscllassification_Error"
   ]
  },
  {
   "cell_type": "code",
   "execution_count": 6,
   "metadata": {
    "collapsed": true
   },
   "outputs": [],
   "source": [
    "# Best k value in our case is K=9"
   ]
  }
 ],
 "metadata": {
  "kernelspec": {
   "display_name": "Python 2",
   "language": "python",
   "name": "python2"
  },
  "language_info": {
   "codemirror_mode": {
    "name": "ipython",
    "version": 2
   },
   "file_extension": ".py",
   "mimetype": "text/x-python",
   "name": "python",
   "nbconvert_exporter": "python",
   "pygments_lexer": "ipython2",
   "version": "2.7.11"
  }
 },
 "nbformat": 4,
 "nbformat_minor": 0
}
